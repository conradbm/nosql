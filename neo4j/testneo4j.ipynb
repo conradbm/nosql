{
 "cells": [
  {
   "cell_type": "code",
   "execution_count": 2,
   "metadata": {
    "collapsed": true
   },
   "outputs": [],
   "source": [
    "###\n",
    "### Import Libraries\n",
    "###\n",
    "\n",
    "from py2neo import Graph, Node, Relationship, authenticate"
   ]
  },
  {
   "cell_type": "code",
   "execution_count": 3,
   "metadata": {
    "collapsed": true
   },
   "outputs": [],
   "source": [
    "###\n",
    "### First Authenticate with your neo4j local server\n",
    "###\n",
    "\n",
    "authenticate(\"localhost\", \"neo4j\", \"Jesusislife1!\")"
   ]
  },
  {
   "cell_type": "code",
   "execution_count": 4,
   "metadata": {
    "collapsed": true
   },
   "outputs": [],
   "source": [
    "###\n",
    "### Create a graph object on your server\n",
    "###\n",
    "\n",
    "g = Graph(host=\"localhost\")\n",
    "print type(g)"
   ]
  },
  {
   "cell_type": "code",
   "execution_count": null,
   "metadata": {
    "collapsed": false
   },
   "outputs": [],
   "source": []
  },
  {
   "cell_type": "code",
   "execution_count": 27,
   "metadata": {
    "collapsed": false
   },
   "outputs": [
    {
     "name": "stdout",
     "output_type": "stream",
     "text": [
      "edge_distance.txt node_city.txt     testneo4j.ipynb\n",
      "Ney_York, 12\n",
      "Chicago, 23\n",
      "Las_Angelas, 35\n",
      "Boston, 2"
     ]
    }
   ],
   "source": [
    "###\n",
    "### Execute some inline commands to see what our data looks like\n",
    "###\n",
    "\n",
    "!ls\n",
    "\n",
    "!head node_city.txt"
   ]
  },
  {
   "cell_type": "code",
   "execution_count": null,
   "metadata": {
    "collapsed": false
   },
   "outputs": [],
   "source": []
  },
  {
   "cell_type": "code",
   "execution_count": 28,
   "metadata": {
    "collapsed": false
   },
   "outputs": [],
   "source": [
    "###\n",
    "### Begin a transaction\n",
    "### For each row, make it a node, specifying as many properties as you wish in the arguments\n",
    "### Be sure to specify what kind of Node() you want, for our example, we want a City Node().\n",
    "### After we are done, we commit the changed to the graph.\n",
    "\n",
    "tx = g.begin()\n",
    "with open(\"node_city.txt\") as f_in:\n",
    "    for line in f_in:\n",
    "        city_list = line.rstrip().split(\",\")\n",
    "        city = Node(\"City\", name=city_list[0], population=int(city_list[1]))\n",
    "        tx.create(city)\n",
    "tx.commit()"
   ]
  },
  {
   "cell_type": "code",
   "execution_count": 34,
   "metadata": {
    "collapsed": false
   },
   "outputs": [
    {
     "data": {
      "text/plain": [
       "[{u'a.name': u'Ney_York', u'a.population': 12},\n",
       " {u'a.name': u'Chicago', u'a.population': 23},\n",
       " {u'a.name': u'Las_Angelas', u'a.population': 35},\n",
       " {u'a.name': u'Boston', u'a.population': 2},\n",
       " {u'a.name': u'Ney_York', u'a.population': 12},\n",
       " {u'a.name': u'Chicago', u'a.population': 23},\n",
       " {u'a.name': u'Las_Angelas', u'a.population': 35},\n",
       " {u'a.name': u'Boston', u'a.population': 2}]"
      ]
     },
     "execution_count": 34,
     "metadata": {},
     "output_type": "execute_result"
    }
   ],
   "source": [
    "###\n",
    "### Execute a MATCH query, for every a in City return its name and population\n",
    "### This returns a subset of nodes on your graph that you want to see based on the query\n",
    "###\n",
    "\n",
    "g.data(\"MATCH (a : City) RETURN a.name,a.population\")"
   ]
  },
  {
   "cell_type": "code",
   "execution_count": 60,
   "metadata": {
    "collapsed": false
   },
   "outputs": [
    {
     "name": "stdout",
     "output_type": "stream",
     "text": [
      "<class 'py2neo.database.selection.NodeSelection'>\n",
      "(ney_york:City {name:\"Ney_York\",population:12})\n"
     ]
    }
   ],
   "source": [
    "###\n",
    "### Get a result set, which is a collection of nodes with the name specified\n",
    "###\n",
    "\n",
    "result_set = g.node_selector.select(\"City\")\n",
    "print type(result_set)\n",
    "print result_set.first()"
   ]
  },
  {
   "cell_type": "code",
   "execution_count": 36,
   "metadata": {
    "collapsed": false
   },
   "outputs": [
    {
     "name": "stdout",
     "output_type": "stream",
     "text": [
      "(boston:City {name:\"Boston\",population:2})\n",
      "(boston:City {name:\"Boston\",population:2})\n"
     ]
    }
   ],
   "source": [
    "###\n",
    "### From our result set, get a City Node by property\n",
    "###\n",
    "\n",
    "resQuery = result_set.where(population = 2)\n",
    "for res in resQuery:\n",
    "    print res"
   ]
  },
  {
   "cell_type": "code",
   "execution_count": 61,
   "metadata": {
    "collapsed": false
   },
   "outputs": [
    {
     "name": "stdout",
     "output_type": "stream",
     "text": [
      "All Cities: \n",
      "(ney_york:City {name:\"Ney_York\",population:12})\n",
      "(b03164d:City {name:\"Chicago\",population:23})\n",
      "(e1ebb18:City {name:\"Las_Angelas\",population:35})\n",
      "(boston:City {name:\"Boston\",population:2})\n",
      "(c729341:City {name:\"Ney_York\",population:12})\n",
      "(fb8f6a4:City {name:\"Chicago\",population:23})\n",
      "(de7fbf4:City {name:\"Las_Angelas\",population:35})\n",
      "(boston:City {name:\"Boston\",population:2})\n",
      "\n",
      "Cities with population greater than 15: \n",
      "(u'name', u'Chicago')\n",
      "(u'name', u'Las_Angelas')\n",
      "(u'name', u'Chicago')\n",
      "(u'name', u'Las_Angelas')\n"
     ]
    }
   ],
   "source": [
    "###\n",
    "### Print the result set a couple different ways\n",
    "###\n",
    "\n",
    "print \"All Cities: \"\n",
    "for r in result_set:\n",
    "    print r\n",
    "    #print r.items() #Returns a cool list of tuples\n",
    "\n",
    "print\n",
    "\n",
    "print \"Cities with population greater than 15: \"\n",
    "for r in result_set:\n",
    "    if r.items()[1][1] >= 15:\n",
    "        print r.items()[0]"
   ]
  },
  {
   "cell_type": "code",
   "execution_count": 59,
   "metadata": {
    "collapsed": false
   },
   "outputs": [
    {
     "name": "stdout",
     "output_type": "stream",
     "text": [
      "Boston, Ney_York, 2\r\n",
      "Ney_York, Chicago, 10\r\n",
      "Chicago, Las_Angelas, 100\r\n",
      "Las_Angelas, Boston, 105"
     ]
    }
   ],
   "source": [
    "###\n",
    "### Make sure our edge distances are solid\n",
    "###\n",
    "\n",
    "!head edge_distance.txt"
   ]
  },
  {
   "cell_type": "code",
   "execution_count": 109,
   "metadata": {
    "collapsed": false
   },
   "outputs": [
    {
     "name": "stdout",
     "output_type": "stream",
     "text": [
      "Boston \tNey_York\n",
      "(a1ec03b:City {name:\"Boston\",population:2}) \t(ney_york:City {name:\"Ney_York\",population:12})\n",
      "[('distance', u'2')]\n",
      "Ney_York \tChicago\n",
      "(ney_york:City {name:\"Ney_York\",population:12}) \t(fcffb19:City {name:\"Chicago\",population:23})\n",
      "[('distance', u'10')]\n",
      "Chicago \tLas_Angelas\n",
      "(fcffb19:City {name:\"Chicago\",population:23}) \t(aa9088a:City {name:\"Las_Angelas\",population:35})\n",
      "[('distance', u'100')]\n",
      "Las_Angelas \tBoston\n",
      "(aa9088a:City {name:\"Las_Angelas\",population:35}) \t(bfc72aa:City {name:\"Boston\",population:2})\n",
      "[('distance', u'105')]\n"
     ]
    }
   ],
   "source": [
    "###\n",
    "### Create a relationship link and add it to our graph\n",
    "### The idea behind this is the following:\n",
    "###     1. Get a result set containing everything in our Node Graph\n",
    "###     2. Clean the data into a list of objects\n",
    "###     3. Find where the Nodes exist in the graph, return their node object references\n",
    "###     4. Create a Relationship(to, \"description\", from) object with both node references as args 'to' 'from'\n",
    "###     5. Add that relationship to the graph i.e., tx.create(yourRelationship)\n",
    "###\n",
    "### Pro-tip: You can add new features to the relationship object just by adding it to the dictionary\n",
    "###\n",
    "\n",
    "tx = g.begin()\n",
    "\n",
    "with open(\"edge_distance.txt\") as f_in:\n",
    "    for line in f_in:\n",
    "        edge_list = line.rstrip().split(\",\")\n",
    "\n",
    "        city1 = edge_list[0].strip()\n",
    "        city2 = edge_list[1].strip()\n",
    "        print city1, \"\\t\", city2\n",
    "        city1_node = result_set.where(name=city1)\n",
    "        city2_node = result_set.where(name=city2)\n",
    "        print city1_node.first(), \"\\t\", city2_node.first() \n",
    "        city_pair = Relationship(city1_node, \"FLIGHT_BETWEEN\" ,city2_node)\n",
    "        city_pair[\"distance\"] = edge_list[2].strip()\n",
    "        print city_pair.items()\n",
    "        tx.create(city_pair)\n",
    "\n",
    "tx.commit()"
   ]
  },
  {
   "cell_type": "code",
   "execution_count": 110,
   "metadata": {
    "collapsed": false
   },
   "outputs": [
    {
     "data": {
      "text/plain": [
       "frozenset({u'FLIGHT BETWEEN', u'FLIGHT_BETWEEN'})"
      ]
     },
     "execution_count": 110,
     "metadata": {},
     "output_type": "execute_result"
    }
   ],
   "source": [
    "g.relationship_types"
   ]
  },
  {
   "cell_type": "code",
   "execution_count": 111,
   "metadata": {
    "collapsed": true
   },
   "outputs": [],
   "source": [
    "import pandas as pd"
   ]
  },
  {
   "cell_type": "code",
   "execution_count": 116,
   "metadata": {
    "collapsed": false
   },
   "outputs": [
    {
     "name": "stdout",
     "output_type": "stream",
     "text": [
      "None \tNone\n",
      "None \tNone\n",
      "None \tNone\n",
      "None \tNone\n",
      "None \tNone\n",
      "None \tNone\n",
      "None \tNone\n",
      "None \tNone\n",
      "None \tNone\n",
      "None \tNone\n",
      "None \tNone\n",
      "None \tNone\n",
      "Boston \tNone\n",
      "Ney_York \tNone\n",
      "Chicago \tNone\n",
      "Las_Angelas \tNone\n",
      "Boston \tNone\n",
      "Ney_York \tNone\n",
      "Chicago \tNone\n",
      "Las_Angelas \tNone\n",
      "Boston \tNone\n",
      "Ney_York \tNone\n",
      "Chicago \tNone\n",
      "Las_Angelas \tNone\n",
      "Boston \tNone\n",
      "Ney_York \tNone\n",
      "Chicago \tNone\n",
      "Las_Angelas \tNone\n",
      "Boston \tNey_York\n",
      "Ney_York \tChicago\n",
      "Chicago \tLas_Angelas\n",
      "Las_Angelas \tBoston\n"
     ]
    }
   ],
   "source": [
    "flights = list()\n",
    "for cities in g.match(rel_type='FLIGHT_BETWEEN'):\n",
    "    city1_name = cities.nodes()[0]['name']\n",
    "    city2_name = cities.nodes()[1]['name']\n",
    "    distance = cities['distance']\n",
    "    print city1_name, \"\\t\", city2_name, \"\\t\", distance\n",
    "    flights.append([city1_name, city2_name, distance])"
   ]
  },
  {
   "cell_type": "code",
   "execution_count": 119,
   "metadata": {
    "collapsed": false
   },
   "outputs": [
    {
     "data": {
      "text/html": [
       "<div>\n",
       "<style>\n",
       "    .dataframe thead tr:only-child th {\n",
       "        text-align: right;\n",
       "    }\n",
       "\n",
       "    .dataframe thead th {\n",
       "        text-align: left;\n",
       "    }\n",
       "\n",
       "    .dataframe tbody tr th {\n",
       "        vertical-align: top;\n",
       "    }\n",
       "</style>\n",
       "<table border=\"1\" class=\"dataframe\">\n",
       "  <thead>\n",
       "    <tr style=\"text-align: right;\">\n",
       "      <th></th>\n",
       "      <th>to</th>\n",
       "      <th>from</th>\n",
       "      <th>distance</th>\n",
       "    </tr>\n",
       "  </thead>\n",
       "  <tbody>\n",
       "    <tr>\n",
       "      <th>27</th>\n",
       "      <td>Las_Angelas</td>\n",
       "      <td>None</td>\n",
       "      <td>105</td>\n",
       "    </tr>\n",
       "    <tr>\n",
       "      <th>28</th>\n",
       "      <td>Boston</td>\n",
       "      <td>Ney_York</td>\n",
       "      <td>2</td>\n",
       "    </tr>\n",
       "    <tr>\n",
       "      <th>29</th>\n",
       "      <td>Ney_York</td>\n",
       "      <td>Chicago</td>\n",
       "      <td>10</td>\n",
       "    </tr>\n",
       "    <tr>\n",
       "      <th>30</th>\n",
       "      <td>Chicago</td>\n",
       "      <td>Las_Angelas</td>\n",
       "      <td>100</td>\n",
       "    </tr>\n",
       "    <tr>\n",
       "      <th>31</th>\n",
       "      <td>Las_Angelas</td>\n",
       "      <td>Boston</td>\n",
       "      <td>105</td>\n",
       "    </tr>\n",
       "  </tbody>\n",
       "</table>\n",
       "</div>"
      ],
      "text/plain": [
       "             to         from distance\n",
       "27  Las_Angelas         None      105\n",
       "28       Boston     Ney_York        2\n",
       "29     Ney_York      Chicago       10\n",
       "30      Chicago  Las_Angelas      100\n",
       "31  Las_Angelas       Boston      105"
      ]
     },
     "execution_count": 119,
     "metadata": {},
     "output_type": "execute_result"
    }
   ],
   "source": [
    "flights_df = pd.DataFrame(flights)\n",
    "flights_df.columns = [\"to\", \"from\", \"distance\"]\n",
    "flights_df.tail()"
   ]
  },
  {
   "cell_type": "code",
   "execution_count": null,
   "metadata": {
    "collapsed": true
   },
   "outputs": [],
   "source": []
  }
 ],
 "metadata": {
  "kernelspec": {
   "display_name": "Python 2",
   "language": "python",
   "name": "python2"
  },
  "language_info": {
   "codemirror_mode": {
    "name": "ipython",
    "version": 2
   },
   "file_extension": ".py",
   "mimetype": "text/x-python",
   "name": "python",
   "nbconvert_exporter": "python",
   "pygments_lexer": "ipython2",
   "version": "2.7.10"
  }
 },
 "nbformat": 4,
 "nbformat_minor": 2
}
