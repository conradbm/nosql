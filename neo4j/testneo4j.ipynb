{
 "cells": [
  {
   "cell_type": "code",
   "execution_count": 2,
   "metadata": {
    "collapsed": true
   },
   "outputs": [],
   "source": [
    "###\n",
    "### Import Libraries\n",
    "###\n",
    "\n",
    "from py2neo import Graph, Node, Relationship, authenticate"
   ]
  },
  {
   "cell_type": "code",
   "execution_count": 3,
   "metadata": {
    "collapsed": true
   },
   "outputs": [],
   "source": [
    "###\n",
    "### First Authenticate with your neo4j local server\n",
    "###\n",
    "\n",
    "authenticate(\"localhost\", \"neo4j\", \"Jesusislife1!\")"
   ]
  },
  {
   "cell_type": "code",
   "execution_count": 4,
   "metadata": {
    "collapsed": true
   },
   "outputs": [],
   "source": [
    "###\n",
    "### Create a graph object on your server\n",
    "###\n",
    "\n",
    "g = Graph(host=\"localhost\")\n",
    "print type(g)"
   ]
  },
  {
   "cell_type": "code",
   "execution_count": null,
   "metadata": {
    "collapsed": false
   },
   "outputs": [],
   "source": []
  },
  {
   "cell_type": "code",
   "execution_count": 27,
   "metadata": {
    "collapsed": false
   },
   "outputs": [
    {
     "name": "stdout",
     "output_type": "stream",
     "text": [
      "edge_distance.txt node_city.txt     testneo4j.ipynb\n",
      "Ney_York, 12\n",
      "Chicago, 23\n",
      "Las_Angelas, 35\n",
      "Boston, 2"
     ]
    }
   ],
   "source": [
    "###\n",
    "### Execute some inline commands to see what our data looks like\n",
    "###\n",
    "\n",
    "!ls\n",
    "\n",
    "!head node_city.txt"
   ]
  },
  {
   "cell_type": "code",
   "execution_count": null,
   "metadata": {
    "collapsed": false
   },
   "outputs": [],
   "source": []
  },
  {
   "cell_type": "code",
   "execution_count": 28,
   "metadata": {
    "collapsed": false
   },
   "outputs": [],
   "source": [
    "###\n",
    "### Begin a transaction\n",
    "### For each row, make it a node, specifying as many properties as you wish in the arguments\n",
    "### Be sure to specify what kind of Node() you want, for our example, we want a City Node().\n",
    "### After we are done, we commit the changed to the graph.\n",
    "\n",
    "tx = g.begin()\n",
    "with open(\"node_city.txt\") as f_in:\n",
    "    for line in f_in:\n",
    "        city_list = line.rstrip().split(\",\")\n",
    "        city = Node(\"City\", name=city_list[0], population=int(city_list[1]))\n",
    "        tx.create(city)\n",
    "tx.commit()"
   ]
  },
  {
   "cell_type": "code",
   "execution_count": 34,
   "metadata": {
    "collapsed": false
   },
   "outputs": [
    {
     "data": {
      "text/plain": [
       "[{u'a.name': u'Ney_York', u'a.population': 12},\n",
       " {u'a.name': u'Chicago', u'a.population': 23},\n",
       " {u'a.name': u'Las_Angelas', u'a.population': 35},\n",
       " {u'a.name': u'Boston', u'a.population': 2},\n",
       " {u'a.name': u'Ney_York', u'a.population': 12},\n",
       " {u'a.name': u'Chicago', u'a.population': 23},\n",
       " {u'a.name': u'Las_Angelas', u'a.population': 35},\n",
       " {u'a.name': u'Boston', u'a.population': 2}]"
      ]
     },
     "execution_count": 34,
     "metadata": {},
     "output_type": "execute_result"
    }
   ],
   "source": [
    "###\n",
    "### Execute a MATCH query, for every a in City return its name and population\n",
    "### This returns a subset of nodes on your graph that you want to see based on the query\n",
    "###\n",
    "\n",
    "g.data(\"MATCH (a : City) RETURN a.name,a.population\")"
   ]
  },
  {
   "cell_type": "code",
   "execution_count": 35,
   "metadata": {
    "collapsed": false
   },
   "outputs": [
    {
     "name": "stdout",
     "output_type": "stream",
     "text": [
      "<class 'py2neo.database.selection.NodeSelection'>\n",
      "(ney_york:City {name:\"Ney_York\",population:12})\n"
     ]
    }
   ],
   "source": [
    "###\n",
    "### Get a result set, which is a collection of nodes with the name specified\n",
    "###\n",
    "\n",
    "result_set = g.node_selector.select(\"City\")\n",
    "print type(result_set)\n",
    "print result_set.first()"
   ]
  },
  {
   "cell_type": "code",
   "execution_count": 36,
   "metadata": {
    "collapsed": false
   },
   "outputs": [
    {
     "name": "stdout",
     "output_type": "stream",
     "text": [
      "(boston:City {name:\"Boston\",population:2})\n",
      "(boston:City {name:\"Boston\",population:2})\n"
     ]
    }
   ],
   "source": [
    "###\n",
    "### From our result set, get a City Node by property\n",
    "###\n",
    "\n",
    "resQuery = result_set.where(population = 2)\n",
    "for res in resQuery:\n",
    "    print res"
   ]
  },
  {
   "cell_type": "code",
   "execution_count": 54,
   "metadata": {
    "collapsed": false
   },
   "outputs": [
    {
     "name": "stdout",
     "output_type": "stream",
     "text": [
      "(u'name', u'Chicago')\n",
      "(u'name', u'Las_Angelas')\n",
      "(u'name', u'Chicago')\n",
      "(u'name', u'Las_Angelas')\n"
     ]
    }
   ],
   "source": [
    "###\n",
    "###\n",
    "###\n",
    "\n",
    "for r in result_set:\n",
    "    \n",
    "    if r.items()[1][1] >= 15:\n",
    "        print r.items()[0]"
   ]
  },
  {
   "cell_type": "code",
   "execution_count": null,
   "metadata": {
    "collapsed": true
   },
   "outputs": [],
   "source": []
  }
 ],
 "metadata": {
  "kernelspec": {
   "display_name": "Python 2",
   "language": "python",
   "name": "python2"
  },
  "language_info": {
   "codemirror_mode": {
    "name": "ipython",
    "version": 2
   },
   "file_extension": ".py",
   "mimetype": "text/x-python",
   "name": "python",
   "nbconvert_exporter": "python",
   "pygments_lexer": "ipython2",
   "version": "2.7.10"
  }
 },
 "nbformat": 4,
 "nbformat_minor": 2
}
