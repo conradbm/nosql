{
 "cells": [
  {
   "cell_type": "code",
   "execution_count": 3,
   "metadata": {
    "collapsed": true
   },
   "outputs": [],
   "source": [
    "###\n",
    "### Libraries\n",
    "###\n",
    "\n",
    "import pymongo"
   ]
  },
  {
   "cell_type": "code",
   "execution_count": 5,
   "metadata": {
    "collapsed": false
   },
   "outputs": [],
   "source": [
    "###\n",
    "### Create a client object connected locally\n",
    "###\n",
    "\n",
    "client = pymongo.MongoClient('localhost', 27017)"
   ]
  },
  {
   "cell_type": "code",
   "execution_count": 21,
   "metadata": {
    "collapsed": true
   },
   "outputs": [],
   "source": [
    "###\n",
    "### Create a database for our client to connect to, if not exists, create it\n",
    "###\n",
    "\n",
    "###\n",
    "### Drop a database\n",
    "###\n",
    "# client.drop_database('chapter3')\n",
    "\n",
    "db = client['UCI-Database']"
   ]
  },
  {
   "cell_type": "code",
   "execution_count": 7,
   "metadata": {
    "collapsed": true
   },
   "outputs": [],
   "source": [
    "collection = db['income']"
   ]
  },
  {
   "cell_type": "code",
   "execution_count": 22,
   "metadata": {
    "collapsed": false
   },
   "outputs": [],
   "source": [
    "###\n",
    "### Pro-tip: Documents have a JSON structure, i.e,.. a python {} structure of key-value pairs\n",
    "### This means we can leverage the zip command for each line, zipping values by location with the right\n",
    "###   `column_names` value, then calling that a dict. This is the `document` that MongoDB is expecting\n",
    "###\n",
    "\n",
    "column_names = ['age', 'workclass', 'fnlwgt', 'education', 'education-num', \n",
    "               'marital-status', 'occupation', 'relationship', 'race', 'sex', 'capital-gain',\n",
    "               'capital-loss', 'hours-per-week', 'native-country', 'label']\n",
    "\n",
    "###\n",
    "### Dataset location: https://archive.ics.uci.edu/ml/datasets/adult\n",
    "### Just download it and save it, the column names are on the homepage also.\n",
    "###\n",
    "\n",
    "row_container=list()\n",
    "with open(\"income.txt\") as f_in:\n",
    "    for line in f_in:\n",
    "        row = [val.strip(\" \").strip(\"\\n\") for val in line.split(',')]\n",
    "        row_dict = dict(zip(column_names, row))\n",
    "        collection.insert_one(row_dict)\n",
    "        row_container.append(row_dict) # store it locally for debugging"
   ]
  },
  {
   "cell_type": "code",
   "execution_count": 23,
   "metadata": {
    "collapsed": false
   },
   "outputs": [
    {
     "data": {
      "text/plain": [
       "32562"
      ]
     },
     "execution_count": 23,
     "metadata": {},
     "output_type": "execute_result"
    }
   ],
   "source": [
    "###\n",
    "### Verify things were added successfully\n",
    "###\n",
    "\n",
    "collection.count()"
   ]
  },
  {
   "cell_type": "code",
   "execution_count": null,
   "metadata": {
    "collapsed": true
   },
   "outputs": [],
   "source": []
  }
 ],
 "metadata": {
  "kernelspec": {
   "display_name": "Python 2",
   "language": "python",
   "name": "python2"
  },
  "language_info": {
   "codemirror_mode": {
    "name": "ipython",
    "version": 2
   },
   "file_extension": ".py",
   "mimetype": "text/x-python",
   "name": "python",
   "nbconvert_exporter": "python",
   "pygments_lexer": "ipython2",
   "version": "2.7.10"
  }
 },
 "nbformat": 4,
 "nbformat_minor": 2
}
