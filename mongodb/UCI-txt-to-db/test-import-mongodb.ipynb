{
 "cells": [
  {
   "cell_type": "code",
   "execution_count": 29,
   "metadata": {
    "collapsed": true,
    "deletable": true,
    "editable": true
   },
   "outputs": [],
   "source": [
    "###\n",
    "### Libraries\n",
    "###\n",
    "\n",
    "import pymongo\n",
    "import time"
   ]
  },
  {
   "cell_type": "code",
   "execution_count": 4,
   "metadata": {
    "collapsed": false,
    "deletable": true,
    "editable": true
   },
   "outputs": [],
   "source": [
    "###\n",
    "### Create a client object connected locally\n",
    "###\n",
    "\n",
    "client = pymongo.MongoClient('localhost', 27017)"
   ]
  },
  {
   "cell_type": "code",
   "execution_count": 5,
   "metadata": {
    "collapsed": true,
    "deletable": true,
    "editable": true
   },
   "outputs": [],
   "source": [
    "###\n",
    "### Create a database for our client to connect to, if not exists, create it\n",
    "###\n",
    "\n",
    "###\n",
    "### Drop a database\n",
    "###\n",
    "# client.drop_database('chapter3')\n",
    "\n",
    "db = client['UCI-Database']"
   ]
  },
  {
   "cell_type": "code",
   "execution_count": 6,
   "metadata": {
    "collapsed": true,
    "deletable": true,
    "editable": true
   },
   "outputs": [],
   "source": [
    "collection = db['income']"
   ]
  },
  {
   "cell_type": "code",
   "execution_count": 7,
   "metadata": {
    "collapsed": false,
    "deletable": true,
    "editable": true
   },
   "outputs": [],
   "source": [
    "###\n",
    "### Pro-tip: Documents have a JSON structure, i.e,.. a python {} structure of key-value pairs\n",
    "### This means we can leverage the zip command for each line, zipping values by location with the right\n",
    "###   `column_names` value, then calling that a dict. This is the `document` that MongoDB is expecting\n",
    "###\n",
    "\n",
    "column_names = ['age', 'workclass', 'fnlwgt', 'education', 'education-num', \n",
    "               'marital-status', 'occupation', 'relationship', 'race', 'sex', 'capital-gain',\n",
    "               'capital-loss', 'hours-per-week', 'native-country', 'label']\n",
    "\n",
    "###\n",
    "### Dataset location: https://archive.ics.uci.edu/ml/datasets/adult\n",
    "### Just download it and save it, the column names are on the homepage also.\n",
    "###\n",
    "\n",
    "row_container=list()\n",
    "with open(\"income.txt\") as f_in:\n",
    "    for line in f_in:\n",
    "        row = [val.strip(\" \").strip(\"\\n\") for val in line.split(',')]\n",
    "        row_dict = dict(zip(column_names, row))\n",
    "        collection.insert_one(row_dict)\n",
    "        row_container.append(row_dict) # store it locally for debugging"
   ]
  },
  {
   "cell_type": "code",
   "execution_count": 8,
   "metadata": {
    "collapsed": false,
    "deletable": true,
    "editable": true
   },
   "outputs": [
    {
     "data": {
      "text/plain": [
       "32562"
      ]
     },
     "execution_count": 8,
     "metadata": {},
     "output_type": "execute_result"
    }
   ],
   "source": [
    "###\n",
    "### Verify things were added successfully\n",
    "###\n",
    "\n",
    "collection.count()"
   ]
  },
  {
   "cell_type": "code",
   "execution_count": 17,
   "metadata": {
    "collapsed": false,
    "deletable": true,
    "editable": true
   },
   "outputs": [],
   "source": [
    "###\n",
    "### Grab an item from our collection to verify it worked\n",
    "###\n",
    "\n",
    "age39 = collection.find_one({'age':39})"
   ]
  },
  {
   "cell_type": "code",
   "execution_count": 19,
   "metadata": {
    "collapsed": false
   },
   "outputs": [
    {
     "name": "stdout",
     "output_type": "stream",
     "text": [
      "None\n"
     ]
    },
    {
     "data": {
      "text/plain": [
       "{u'_id': ObjectId('591b3ec6375e7d0ac651b535'),\n",
       " u'age': u'39',\n",
       " u'capital-gain': u'2174',\n",
       " u'capital-loss': u'0',\n",
       " u'education': u'Bachelors',\n",
       " u'education-num': u'13',\n",
       " u'fnlwgt': u'77516',\n",
       " u'hours-per-week': u'40',\n",
       " u'label': u'<=50K',\n",
       " u'marital-status': u'Never-married',\n",
       " u'native-country': u'United-States',\n",
       " u'occupation': u'Adm-clerical',\n",
       " u'race': u'White',\n",
       " u'relationship': u'Not-in-family',\n",
       " u'sex': u'Male',\n",
       " u'workclass': u'State-gov'}"
      ]
     },
     "execution_count": 19,
     "metadata": {},
     "output_type": "execute_result"
    }
   ],
   "source": [
    "###\n",
    "### View the age 39, not there? Look at the first object to see why\n",
    "###\n",
    "print age39\n",
    "collection.find_one({})"
   ]
  },
  {
   "cell_type": "code",
   "execution_count": 20,
   "metadata": {
    "collapsed": true
   },
   "outputs": [],
   "source": [
    "###\n",
    "### 1. Delete the old collection, Re-input our data with the correct types\n",
    "###\n",
    "collection.delete_many({})\n",
    "\n",
    "with open(\"income.txt\") as f_in:\n",
    "    for line in f_in:\n",
    "        row = [val.strip(\" \").strip(\"\\n\") for val in line.split(',')]\n",
    "        row_dict = dict(zip(column_names, row))\n",
    "        try:\n",
    "            row_dict['age'] = int(row_dict['age'])\n",
    "        except: \n",
    "            pass;\n",
    "        collection.insert_one(row_dict)"
   ]
  },
  {
   "cell_type": "code",
   "execution_count": 23,
   "metadata": {
    "collapsed": false
   },
   "outputs": [
    {
     "data": {
      "text/plain": [
       "<pymongo.cursor.Cursor at 0x114c54c90>"
      ]
     },
     "execution_count": 23,
     "metadata": {},
     "output_type": "execute_result"
    }
   ],
   "source": [
    "###\n",
    "### Query for everyone over the age of 35\n",
    "###\n",
    "### $gt is the filter for greater than, we can use this with special dictionary syntax\n",
    "###\n",
    "\n",
    "over_35 = collection.find({'age': {\"$gt\" : 35}})\n"
   ]
  },
  {
   "cell_type": "code",
   "execution_count": 26,
   "metadata": {
    "collapsed": false
   },
   "outputs": [
    {
     "data": {
      "text/plain": [
       "17636"
      ]
     },
     "execution_count": 26,
     "metadata": {},
     "output_type": "execute_result"
    }
   ],
   "source": [
    "###\n",
    "### A Cursor data structure which contains a pointer to the current row in a result set, iterator-like object\n",
    "###\n",
    "\n",
    "type(over_35)\n",
    "over_35.next()\n",
    "over_35.count()"
   ]
  },
  {
   "cell_type": "code",
   "execution_count": 32,
   "metadata": {
    "collapsed": false
   },
   "outputs": [
    {
     "name": "stdout",
     "output_type": "stream",
     "text": [
      "0.000157117843628\n"
     ]
    }
   ],
   "source": [
    "###\n",
    "### Performance is a big deal when dealing with large datasets, so creating an index is a good idea\n",
    "###\n",
    "\n",
    "\n",
    "###\n",
    "### Time non-indexed value for a query\n",
    "###\n",
    "start = time.time()\n",
    "age_over50 = collection.find({'age':{\"$eq\":50}})\n",
    "end = time.time()\n",
    "print (end - start)\n",
    "\n",
    "###\n",
    "### Create the index\n",
    "###\n",
    "index_result = db.profiles.create_index([('age':pymongo.ASCENDING)], unique=False) # there may exist ma\n",
    "\n",
    "###\n",
    "### Re-time after the index\n",
    "###"
   ]
  },
  {
   "cell_type": "code",
   "execution_count": null,
   "metadata": {
    "collapsed": true
   },
   "outputs": [],
   "source": []
  }
 ],
 "metadata": {
  "kernelspec": {
   "display_name": "Python 2",
   "language": "python",
   "name": "python2"
  },
  "language_info": {
   "codemirror_mode": {
    "name": "ipython",
    "version": 2
   },
   "file_extension": ".py",
   "mimetype": "text/x-python",
   "name": "python",
   "nbconvert_exporter": "python",
   "pygments_lexer": "ipython2",
   "version": "2.7.10"
  }
 },
 "nbformat": 4,
 "nbformat_minor": 2
}
